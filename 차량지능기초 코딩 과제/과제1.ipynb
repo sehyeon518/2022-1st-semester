{
 "cells": [
  {
   "cell_type": "markdown",
   "metadata": {
    "id": "JOhUnQnnLTBx"
   },
   "source": [
    "## 과제 1"
   ]
  },
  {
   "cell_type": "markdown",
   "metadata": {
    "id": "7cgr3lbdJcro"
   },
   "source": [
    "이번 과제에서는 운동학적인 자전거 모델을 구현합니다.</br>\n",
    "이 모델은 속도와 조향을 입력으로 받습니다.</br>\n",
    "이후 자전거의 운동 방정식을 통해 움직이게 됩니다.</br>\n",
    "자전거는 다음의 수식들을 통해 제어 됩니다.</br>\n",
    "\n",
    "\\begin{align*}\n",
    "\\dot{x}_c &= v \\cos{(\\theta + \\beta)} \\\\\n",
    "\\dot{y}_c &= v \\sin{(\\theta + \\beta)} \\\\\n",
    "\\dot{\\theta} &= \\frac{v \\cos{\\beta} \\tan{\\delta}}{L} \\\\\n",
    "\\dot{\\delta} &= \\omega \\\\\n",
    "\\beta &= \\tan^{-1}(\\frac{l_r \\tan{\\delta}}{L})\n",
    "\\end{align*}\n",
    "\n",
    "\n",
    "위의 수식에서 입력으로 받는 것은 속도 $v$와 조향각의 의 비율인 $\\omega$ 두 가지가 됩니다.</br>\n",
    "입력이 단순화될 경우 직접 넣어주는 $\\delta$가 될 수도 있습니다.<br/>\n",
    "이 모델을 만들고 관리하기 쉽게 하기 위해 Python의 클래스 객체를 사용하여 구현하도록 하겠습니다.</br>\n",
    "자전거는 초기 조건이 0인 상태에서 시작하며 속도가 1.22 rad/s, 축거 길이가 2m, 무게중심으로부터 리어 액슬까지 떨어진 길이가 1.2m가 됩니다.</br>\n",
    "따라서 이런 조건으로 Python 객체를 초기화 합니다."
   ]
  },
  {
   "cell_type": "code",
   "execution_count": 2,
   "metadata": {
    "ExecuteTime": {
     "end_time": "2022-04-03T14:58:08.830180Z",
     "start_time": "2022-04-03T14:58:08.811584Z"
    },
    "id": "L-WhYdv5Jcrq"
   },
   "outputs": [],
   "source": [
    "from notebook_grader import BicycleSolution, grade_bicycle\n",
    "import numpy as np\n",
    "import matplotlib.pyplot as plt\n",
    "import matplotlib.image as mpimg\n",
    "\n",
    "class Bicycle():\n",
    "    def __init__(self):\n",
    "        self.xc = 0\n",
    "        self.yc = 0\n",
    "        self.theta = 0\n",
    "        self.delta = 0\n",
    "        self.beta = 0\n",
    "        \n",
    "        self.L = 2\n",
    "        self.lr = 1.2\n",
    "        self.w_max = 1.22\n",
    "        \n",
    "        self.sample_time = 0.01\n",
    "        \n",
    "    def reset(self):\n",
    "        self.xc = 0\n",
    "        self.yc = 0\n",
    "        self.theta = 0\n",
    "        self.delta = 0\n",
    "        self.beta = 0"
   ]
  },
  {
   "cell_type": "markdown",
   "metadata": {
    "id": "7rU-dcEBJcrq"
   },
   "source": [
    "자전거가 움직이는 시간에 따라 운동학을 전파시키기 위해 수치적분을 위한 샘플 시간이 필요합니다.</br>\n",
    "이 샘플 시간은 10 밀리 초로 설정합니다.</br>\n",
    "또한 모든 상태 변수를 0으로 초기화할 수 있는 함수도 있습니다.</br>\n",
    "\n",
    "아래 셀에 정의 된 $\\textit{step}$함수는 샘플 시간을 이용해서 운동학적 모델을 구현하는 함수입니다.</br>\n",
    "$\\textit{step}$함수는 입력으로 속도 + 각속도를 받고 상태변수를 업데이트하게 됩니다.</br>\n",
    "\n",
    "단, 자전거의 최대 회전율을 고려하여 구현하셔야 합니다."
   ]
  },
  {
   "cell_type": "markdown",
   "metadata": {
    "id": "S-Kkf3UGpQpy"
   },
   "source": [
    "## 코드 작성 (1) - 자전거 모델링"
   ]
  },
  {
   "cell_type": "code",
   "execution_count": 5,
   "metadata": {
    "ExecuteTime": {
     "end_time": "2022-03-23T01:34:50.211298Z",
     "start_time": "2022-03-23T01:34:50.201646Z"
    },
    "id": "HShiRkV9Jcrr"
   },
   "outputs": [
    {
     "ename": "NameError",
     "evalue": "name 'Bicycle' is not defined",
     "output_type": "error",
     "traceback": [
      "\u001b[0;31m---------------------------------------------------------------------------\u001b[0m",
      "\u001b[0;31mNameError\u001b[0m                                 Traceback (most recent call last)",
      "Input \u001b[0;32mIn [5]\u001b[0m, in \u001b[0;36m<cell line: 1>\u001b[0;34m()\u001b[0m\n\u001b[0;32m----> 1\u001b[0m \u001b[38;5;28;01mclass\u001b[39;00m \u001b[38;5;21;01mBicycle\u001b[39;00m(\u001b[43mBicycle\u001b[49m):\n\u001b[1;32m      2\u001b[0m     \u001b[38;5;28;01mdef\u001b[39;00m \u001b[38;5;21mstep\u001b[39m(\u001b[38;5;28mself\u001b[39m, v, w):\n\u001b[1;32m      3\u001b[0m         \u001b[38;5;66;03m# ==================================\u001b[39;00m\n\u001b[1;32m      4\u001b[0m         \u001b[38;5;66;03m# 여기에 코드를 작성하시오.\u001b[39;00m\n\u001b[1;32m      5\u001b[0m         \u001b[38;5;66;03m# ==================================\u001b[39;00m\n\u001b[1;32m      6\u001b[0m         \u001b[38;5;28;01mpass\u001b[39;00m\n",
      "\u001b[0;31mNameError\u001b[0m: name 'Bicycle' is not defined"
     ]
    }
   ],
   "source": [
    "class Bicycle(Bicycle):\n",
    "    def step(self, v, w):\n",
    "        # ==================================\n",
    "        # 여기에 코드를 작성하시오.\n",
    "        # ==================================\n",
    "        pass\n",
    "\n"
   ]
  },
  {
   "cell_type": "markdown",
   "metadata": {
    "id": "WqiHi_9VJcrr"
   },
   "source": [
    "모델 설정을 통해 자전거를 생성하고 궤적 또한 생성할 수 있게 되었습니다.</br>\n",
    "만약 모델이 반경 10m의 원을 20초 동안 이동하기 원한다고 가정하면 곡률 반경과 조향각 사이의 관계식을 통해 원하는 조향각을 계산할 수 있습니다.\n",
    "\n",
    "\\begin{align*}\n",
    "    \\tan{\\delta} &= \\frac{L}{r} \\\\\n",
    "    \\delta &= \\tan^{-1}(\\frac{L}{r}) \\\\\n",
    "           &= \\tan^{-1}(\\frac{2}{10}) \\\\\n",
    "           &= 0.1974\n",
    "\\end{align*}\n",
    "\n",
    "위의 식에 따라 단순히 자전거 모델의 조향 각도를 0.1974로 설정하면 추가로 조향을 입력으로 주지 않더라도 자전거가 원을 그리게 됩니다.\n",
    "\n",
    "원하는 속도는 원의 둘레를 이용해서 아래와 같이 계산할 수 있습니다.\n",
    "\n",
    "\\begin{align*}\n",
    "    v &= \\frac{d}{t}\\\\\n",
    "     &= \\frac{2 \\pi 10}{20}\\\\\n",
    "     &= \\pi\n",
    "\\end{align*}\n",
    "\n",
    "이제 루프문을 통해 구현한 모델의 방정식을 단계별로 수행할 수 있습니다.\n",
    "\n",
    "그리고 구현한 모델과 함께 자전거 모델 솔루션을 실행하여 예상 궤적을 보여주고 구현한 모델이 얼마나 잘 구현되었는지 확인할 수 있습니다."
   ]
  },
  {
   "cell_type": "code",
   "execution_count": 4,
   "metadata": {
    "ExecuteTime": {
     "end_time": "2022-03-23T02:05:47.413860Z",
     "start_time": "2022-03-23T02:05:47.202459Z"
    },
    "colab": {
     "base_uri": "https://localhost:8080/",
     "height": 265
    },
    "executionInfo": {
     "elapsed": 429,
     "status": "ok",
     "timestamp": 1648096358089,
     "user": {
      "displayName": "‍하정민(대학원생-컴퓨터공학전공)",
      "photoUrl": "https://lh3.googleusercontent.com/a/default-user=s64",
      "userId": "07891677580396829057"
     },
     "user_tz": -540
    },
    "id": "wFLWGQfOJcrr",
    "outputId": "3f631876-bcc5-42b2-c4c4-87409ad829b5"
   },
   "outputs": [
    {
     "ename": "NameError",
     "evalue": "name 'Bicycle' is not defined",
     "output_type": "error",
     "traceback": [
      "\u001b[0;31m---------------------------------------------------------------------------\u001b[0m",
      "\u001b[0;31mNameError\u001b[0m                                 Traceback (most recent call last)",
      "Input \u001b[0;32mIn [4]\u001b[0m, in \u001b[0;36m<cell line: 3>\u001b[0;34m()\u001b[0m\n\u001b[1;32m      1\u001b[0m sample_time \u001b[38;5;241m=\u001b[39m \u001b[38;5;241m0.01\u001b[39m\n\u001b[1;32m      2\u001b[0m time_end \u001b[38;5;241m=\u001b[39m \u001b[38;5;241m20\u001b[39m\n\u001b[0;32m----> 3\u001b[0m model \u001b[38;5;241m=\u001b[39m \u001b[43mBicycle\u001b[49m()\n\u001b[1;32m      4\u001b[0m solution_model \u001b[38;5;241m=\u001b[39m BicycleSolution()\n\u001b[1;32m      6\u001b[0m \u001b[38;5;66;03m# \b델타를 직접 넣어주어 설정\u001b[39;00m\n",
      "\u001b[0;31mNameError\u001b[0m: name 'Bicycle' is not defined"
     ]
    }
   ],
   "source": [
    "sample_time = 0.01\n",
    "time_end = 20\n",
    "model = Bicycle()\n",
    "solution_model = BicycleSolution()\n",
    "\n",
    "# \b델타를 직접 넣어주어 설정\n",
    "model.delta = np.arctan(2/10)\n",
    "solution_model.delta = np.arctan(2/10)\n",
    "\n",
    "t_data = np.arange(0,time_end,sample_time)\n",
    "x_data = np.zeros_like(t_data)\n",
    "y_data = np.zeros_like(t_data)\n",
    "x_solution = np.zeros_like(t_data)\n",
    "y_solution = np.zeros_like(t_data)\n",
    "\n",
    "for i in range(t_data.shape[0]):\n",
    "    x_data[i] = model.xc\n",
    "    y_data[i] = model.yc\n",
    "    model.step(np.pi, 0)\n",
    "    \n",
    "    x_solution[i] = solution_model.xc\n",
    "    y_solution[i] = solution_model.yc\n",
    "    solution_model.step(np.pi, 0)\n",
    "    \n",
    "    #model.beta = 0\n",
    "    #solution_model.beta=0\n",
    "    \n",
    "plt.axis('equal')\n",
    "plt.plot(x_data, y_data,label='Learner Model')\n",
    "plt.plot(x_solution, y_solution,label='Solution Model')\n",
    "plt.legend()\n",
    "plt.show()"
   ]
  },
  {
   "cell_type": "markdown",
   "metadata": {
    "collapsed": true,
    "id": "WK2pgjwNJcrs"
   },
   "source": [
    "위의 그림은 10m 반지름을 갖는 원을 보여줍니다.</br>\n",
    "그러나 모델의 경로가 $\\beta$로 인해 사이드 슬립 효과가 생겨 약간의 오프셋이 생깁니다.\n",
    "\n",
    "이는 코드의 마지막 줄의 주석을 제거하여 $\\beta=0$으로 초기화 시켜주면 오프셋이 사라지고 원이 (0, 10)의 중앙에 위치하는 것을 볼 수 있습니다.\n",
    "\n",
    "그러나 실제로는 조향 각도를 직접 설정할 수 없습니다.</br>\n",
    "따라서 각도 비율 입력 $\\omega$를 통해 변경해야 합니다.</br>\n",
    "아래의 셀은 이것을 수정해서 동일한 원 궤적을 만들 수 있도록 각속도 입력을 설정합니다.</br>\n",
    "이 때, 속도$v$는 여전히 $\\pi$ m/s로 유지 됩니다."
   ]
  },
  {
   "cell_type": "code",
   "execution_count": 1,
   "metadata": {
    "ExecuteTime": {
     "end_time": "2022-03-23T01:35:15.384606Z",
     "start_time": "2022-03-23T01:35:15.170745Z"
    },
    "colab": {
     "base_uri": "https://localhost:8080/",
     "height": 269
    },
    "executionInfo": {
     "elapsed": 590,
     "status": "ok",
     "timestamp": 1648096360627,
     "user": {
      "displayName": "‍하정민(대학원생-컴퓨터공학전공)",
      "photoUrl": "https://lh3.googleusercontent.com/a/default-user=s64",
      "userId": "07891677580396829057"
     },
     "user_tz": -540
    },
    "id": "wmAzMrl-Jcrs",
    "outputId": "51487332-cad6-4788-bf46-f28dd7af5240"
   },
   "outputs": [
    {
     "ename": "NameError",
     "evalue": "name 'model' is not defined",
     "output_type": "error",
     "traceback": [
      "\u001b[0;31m---------------------------------------------------------------------------\u001b[0m",
      "\u001b[0;31mNameError\u001b[0m                                 Traceback (most recent call last)",
      "Input \u001b[0;32mIn [1]\u001b[0m, in \u001b[0;36m<cell line: 3>\u001b[0;34m()\u001b[0m\n\u001b[1;32m      1\u001b[0m sample_time \u001b[38;5;241m=\u001b[39m \u001b[38;5;241m0.01\u001b[39m\n\u001b[1;32m      2\u001b[0m time_end \u001b[38;5;241m=\u001b[39m \u001b[38;5;241m20\u001b[39m\n\u001b[0;32m----> 3\u001b[0m \u001b[43mmodel\u001b[49m\u001b[38;5;241m.\u001b[39mreset()\n\u001b[1;32m      4\u001b[0m solution_model\u001b[38;5;241m.\u001b[39mreset()\n\u001b[1;32m      6\u001b[0m t_data \u001b[38;5;241m=\u001b[39m np\u001b[38;5;241m.\u001b[39marange(\u001b[38;5;241m0\u001b[39m,time_end,sample_time)\n",
      "\u001b[0;31mNameError\u001b[0m: name 'model' is not defined"
     ]
    }
   ],
   "source": [
    "sample_time = 0.01\n",
    "time_end = 20\n",
    "model.reset()\n",
    "solution_model.reset()\n",
    "\n",
    "t_data = np.arange(0,time_end,sample_time)\n",
    "x_data = np.zeros_like(t_data)\n",
    "y_data = np.zeros_like(t_data)\n",
    "x_solution = np.zeros_like(t_data)\n",
    "y_solution = np.zeros_like(t_data)\n",
    "\n",
    "for i in range(t_data.shape[0]):\n",
    "    x_data[i] = model.xc\n",
    "    y_data[i] = model.yc\n",
    "    \n",
    "    if model.delta < np.arctan(2/10):\n",
    "        model.step(np.pi, model.w_max)\n",
    "    else:\n",
    "        model.step(np.pi, 0)\n",
    "        \n",
    "    x_solution[i] = solution_model.xc\n",
    "    y_solution[i] = solution_model.yc\n",
    "    \n",
    "    if solution_model.delta < np.arctan(2/10):\n",
    "        solution_model.step(np.pi, model.w_max)\n",
    "    else:\n",
    "        solution_model.step(np.pi, 0)    \n",
    "\n",
    "plt.axis('equal')\n",
    "plt.plot(x_data, y_data,label='Learner Model')\n",
    "plt.plot(x_solution, y_solution,label='Solution Model')\n",
    "plt.legend()\n",
    "plt.show()"
   ]
  },
  {
   "cell_type": "markdown",
   "metadata": {
    "id": "26spvIkLJcrt"
   },
   "source": [
    "다음은 정사각형, 나선형, 파동 경로를 나타내는 궤적들입니다. </br>\n",
    "보고 싶은 궤적의 주석을 제거하여 확인하면 됩니다."
   ]
  },
  {
   "cell_type": "markdown",
   "metadata": {
    "id": "W3nKpv1ApWVp"
   },
   "source": [
    "## 코드 작성 (2) - 사각형 경로 작성"
   ]
  },
  {
   "cell_type": "code",
   "execution_count": null,
   "metadata": {
    "ExecuteTime": {
     "end_time": "2022-03-22T08:31:09.019712Z",
     "start_time": "2022-03-22T08:31:08.697002Z"
    },
    "colab": {
     "base_uri": "https://localhost:8080/",
     "height": 265
    },
    "executionInfo": {
     "elapsed": 594,
     "status": "ok",
     "timestamp": 1648100934334,
     "user": {
      "displayName": "‍하정민(대학원생-컴퓨터공학전공)",
      "photoUrl": "https://lh3.googleusercontent.com/a/default-user=s64",
      "userId": "07891677580396829057"
     },
     "user_tz": -540
    },
    "id": "viM0M5zyJcrt",
    "outputId": "783641fa-4a86-408d-d557-d1d34f37a357"
   },
   "outputs": [
    {
     "data": {
      "image/png": "[encoded data removed]",
      "text/plain": [
       "<Figure size 432x288 with 1 Axes>"
      ]
     },
     "metadata": {
      "needs_background": "light"
     },
     "output_type": "display_data"
    }
   ],
   "source": [
    "sample_time = 0.01\n",
    "time_end = 60\n",
    "model.reset()\n",
    "solution_model.reset()\n",
    "\n",
    "t_data = np.arange(0,time_end,sample_time)\n",
    "x_data = np.zeros_like(t_data)\n",
    "y_data = np.zeros_like(t_data)\n",
    "x_solution = np.zeros_like(t_data)\n",
    "y_solution = np.zeros_like(t_data)\n",
    "\n",
    "# maintain velocity at 4 m/s\n",
    "v_data = np.zeros_like(t_data)\n",
    "v_data[:] = 4 \n",
    "\n",
    "w_data = np.zeros_like(t_data)\n",
    "\n",
    "\n",
    "# ==================================\n",
    "#  삼각형 경로\n",
    "# ==================================\n",
    "w_data[900:1000] = 0.975\n",
    "w_data[1000:1100] = -0.975\n",
    "w_data[2900:3000] = 0.975\n",
    "w_data[3000:3100] = -0.975\n",
    "w_data[4900:5000] = 0.975\n",
    "w_data[5000:5100] = -0.975\n",
    "\n",
    "# ==================================\n",
    "#  나선형 경로\n",
    "# ==================================\n",
    "# w_data[:] = -1/100\n",
    "# w_data[0:100] = 1\n",
    "\n",
    "# ==================================\n",
    "#  웨이브 경로\n",
    "# ==================================\n",
    "# w_data[:] = 0\n",
    "# w_data[0:100] = 1\n",
    "# w_data[100:300] = -1\n",
    "# w_data[300:500] = 1\n",
    "# w_data[500:5700] = np.tile(w_data[100:500], 13)\n",
    "# w_data[5700:] = -1\n",
    "\n",
    "# ==================================\n",
    "#  사각형 경로\n",
    "# ==================================\n",
    "# 여기에 코드를 적으시오.\n",
    "\n",
    "for i in range(t_data.shape[0]):\n",
    "    x_data[i] = model.xc\n",
    "    y_data[i] = model.yc\n",
    "    model.step(v_data[i], w_data[i])\n",
    "\n",
    "    x_solution[i] = solution_model.xc\n",
    "    y_solution[i] = solution_model.yc\n",
    "    solution_model.step(v_data[i], w_data[i])\n",
    "    \n",
    "plt.axis('equal')\n",
    "plt.plot(x_data, y_data,label='Learner Model')\n",
    "plt.plot(x_solution, y_solution,label='Solution Model')\n",
    "plt.legend()\n",
    "plt.show()"
   ]
  },
  {
   "cell_type": "markdown",
   "metadata": {
    "id": "FMrjM3aQKkx0"
   },
   "source": [
    "이제 마지막으로 자전거가 8자 모양의 궤적을 그려보겠습니다.</br>\n",
    "아래 그림의 반지름은 8m이며 자전거는 이 경로를 30초 내로 완주해야 합니다.</br>\n",
    "\n",
    "아래 셀에서는 구현에 필요한 속도와 조향 속도 입력을 결정하게 됩니다.</br>\n",
    "또한, v_data와 w_data 배열에 입력을 저장하고 이 배열을 이용해서 솔루션을 평가하는데 사용하게 됩니다.\n",
    "아래의 셀은 구현된 모델에 의해서 생성된 궤적을 보여줍니다."
   ]
  },
  {
   "cell_type": "markdown",
   "metadata": {
    "id": "vfB77KWdpZOv"
   },
   "source": [
    "## 코드 작성 (3) - 8자 경로 작성"
   ]
  },
  {
   "cell_type": "code",
   "execution_count": null,
   "metadata": {
    "ExecuteTime": {
     "end_time": "2022-03-23T02:18:15.069468Z",
     "start_time": "2022-03-23T02:18:14.915486Z"
    },
    "colab": {
     "base_uri": "https://localhost:8080/",
     "height": 268
    },
    "executionInfo": {
     "elapsed": 427,
     "status": "ok",
     "timestamp": 1648101203888,
     "user": {
      "displayName": "‍하정민(대학원생-컴퓨터공학전공)",
      "photoUrl": "https://lh3.googleusercontent.com/a/default-user=s64",
      "userId": "07891677580396829057"
     },
     "user_tz": -540
    },
    "id": "Wb-zqDL6Jcru",
    "outputId": "0e123555-7603-42ea-908a-5f72904b7f3d"
   },
   "outputs": [
    {
     "data": {
      "image/png": "[encoded data removed]",
      "text/plain": [
       "<Figure size 432x288 with 1 Axes>"
      ]
     },
     "metadata": {
      "needs_background": "light"
     },
     "output_type": "display_data"
    }
   ],
   "source": [
    "sample_time = 0.01\n",
    "time_end = 30\n",
    "model.reset()\n",
    "\n",
    "t_data = np.arange(0,time_end,sample_time)\n",
    "x_data = np.zeros_like(t_data)\n",
    "y_data = np.zeros_like(t_data)\n",
    "v_data = np.zeros_like(t_data)\n",
    "w_data = np.zeros_like(t_data)\n",
    "\n",
    "# ==================================\n",
    "#  Learner solution begins here\n",
    "# ==================================\n",
    "radius = 8\n",
    "delta = 0.993 * np.arctan(model.L / radius)  # 0.993은 더 좋은 결과를 위해 곱해주는 것으로 신경쓰지 않아도 됩니다.\n",
    "v_data[:] = (2 * np.pi * 2 * radius) / (time_end)\n",
    "\n",
    "for i in range(t_data.shape[0]):\n",
    "    x_data[i] = model.xc\n",
    "    y_data[i] = model.yc\n",
    "\n",
    "    #속도가 고정일 때 자전거가 8자를 그리게 하기 위해서 총 길이를 8등분을 할 수 있습니다.\n",
    "    #각각의 부분에 w_data에 들어갈 코드를 입력하시오.\n",
    "    if i <= t_data.shape[0]/8:\n",
    "        if model.delta < delta:\n",
    "            model.step(v_data[i], model.w_max)\n",
    "            w_data[i] = \n",
    "        else:\n",
    "            model.step(v_data[i], 0)\n",
    "            w_data[i] = \n",
    "            \n",
    "    elif i <= (5.1*t_data.shape[0])/8:\n",
    "        if model.delta > -delta:\n",
    "            model.step(v_data[i], -model.w_max)\n",
    "            w_data[i] = \n",
    "        else:\n",
    "            model.step(v_data[i], 0)\n",
    "            w_data[i] = \n",
    "            \n",
    "    else:\n",
    "        if model.delta < delta:\n",
    "            model.step(v_data[i], model.w_max)\n",
    "            w_data[i] = \n",
    "        else:\n",
    "            model.step(v_data[i], 0)\n",
    "            w_data[i] =   \n",
    "# ==================================\n",
    "#  Learner solution ends here\n",
    "# ==================================\n",
    "plt.axis('equal')\n",
    "plt.plot(x_data, y_data)\n",
    "plt.show()"
   ]
  },
  {
   "cell_type": "markdown",
   "metadata": {
    "id": "6mfzmCJkJcru"
   },
   "source": [
    "이제 채점용 자전거에 속도와 각속도를 입력해줍니다.\n",
    "그럼 채점용 자전거는 위의 그림과 같은 궤도에서 몇 개의 웨이트 포인트를 생성하고 이런 웨이트 포인트 주변에는 1.5m의 오류 허용 원이 있어서 생성된 궤적이 이 원의 80% 내에 있을 경우 정답으로 채점됩니다."
   ]
  },
  {
   "cell_type": "code",
   "execution_count": null,
   "metadata": {
    "ExecuteTime": {
     "end_time": "2022-03-23T02:18:05.788675Z",
     "start_time": "2022-03-23T02:18:05.435686Z"
    },
    "colab": {
     "base_uri": "https://localhost:8080/",
     "height": 312
    },
    "executionInfo": {
     "elapsed": 834,
     "status": "ok",
     "timestamp": 1648101229981,
     "user": {
      "displayName": "‍하정민(대학원생-컴퓨터공학전공)",
      "photoUrl": "https://lh3.googleusercontent.com/a/default-user=s64",
      "userId": "07891677580396829057"
     },
     "user_tz": -540
    },
    "id": "1tYBiPX-Jcru",
    "outputId": "34fd4f39-3bd2-420e-a310-f666be9306ca"
   },
   "outputs": [
    {
     "name": "stdout",
     "output_type": "stream",
     "text": [
      "Assessment passed! Your trajectory meets 100.0% of the waypoints.\n"
     ]
    },
    {
     "data": {
      "image/png": "[encoded data removed]",
      "text/plain": [
       "<Figure size 432x288 with 1 Axes>"
      ]
     },
     "metadata": {
      "needs_background": "light"
     },
     "output_type": "display_data"
    }
   ],
   "source": [
    "grade_bicycle(t_data,v_data,w_data)"
   ]
  }
 ],
 "metadata": {
  "colab": {
   "collapsed_sections": [],
   "name": "과제1.ipynb",
   "provenance": []
  },
  "kernelspec": {
   "display_name": "Python 3 (ipykernel)",
   "language": "python",
   "name": "python3"
  },
  "language_info": {
   "codemirror_mode": {
    "name": "ipython",
    "version": 3
   },
   "file_extension": ".py",
   "mimetype": "text/x-python",
   "name": "python",
   "nbconvert_exporter": "python",
   "pygments_lexer": "ipython3",
   "version": "3.8.10"
  },
  "toc": {
   "base_numbering": 1,
   "nav_menu": {},
   "number_sections": false,
   "sideBar": true,
   "skip_h1_title": false,
   "title_cell": "Table of Contents",
   "title_sidebar": "Contents",
   "toc_cell": false,
   "toc_position": {},
   "toc_section_display": true,
   "toc_window_display": false
  }
 },
 "nbformat": 4,
 "nbformat_minor": 1
}
