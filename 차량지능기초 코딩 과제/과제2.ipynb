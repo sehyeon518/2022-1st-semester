{
 "cells": [
  {
   "cell_type": "markdown",
   "metadata": {
    "id": "hFjAX756oqlN"
   },
   "source": [
    "## 과제 2"
   ]
  },
  {
   "cell_type": "markdown",
   "metadata": {
    "collapsed": true,
    "id": "6PrNmYVSR8JQ"
   },
   "source": [
    "이 과제에서는 전방 종방향의 차량 모델을 구현합니다.\n",
    "이 모델은 스로틀 입력을 받아 종방향 동적 방정식을 이용하여 지동차를 움직이게 됩니다.\n",
    "모델이 구현되면 모델을 테스트하기 위한 작은 도로 경사면이 주어집니다.\n",
    "\n",
    "모델에 대한 입력은 스로틀 백분율 $x_\\theta \\in [0,1]$ 이고 이것을 통해 엔진에 토크를 제공하고 차량을 가속합니다.\n",
    "\n",
    "동적 방정식은 스로틀 입력을 휠 속도로 변환하는 여러 단계로 구성됩니다.\n",
    "단계는 엔진 -> 토크 컨버터 -> 변속기 -> 휠로 이뤄지며 이런 단계는 다음과 같은 결합된 엔진 동적 방정식에서 사용되는 $J_e$로 함께 묶입니다.\n",
    "\n",
    "\\begin{align}\n",
    "    J_e \\dot{\\omega}_e &= T_e - (GR)(r_{eff} F_{load}) \\\\ m\\ddot{x} &= F_x - F_{load}\n",
    "\\end{align}\n",
    "\n",
    "여기서 $T_e$는 엔진 토크, $GR$는 기어비, $r_{eff}$는 유효 반경, $m$는 차량의 질량, $x$는 차량 위치, $F_x$는 타이어의 힘이고 $F_{load}$는 총 하중의 힘입니다. \n",
    "\n",
    "엔진 토크는 단순화된 2차 모델을 사용하여 스로틀 입력과 엔진의 각속도 $\\omega_e$에서 계산됩니다.\n",
    "\n",
    "\\begin{align}\n",
    "    T_e = x_{\\theta}(a_0 + a_1 \\omega_e + a_2 \\omega_e^2)\n",
    "\\end{align}\n",
    "\n",
    "하중력은 공기역학적 항력 $F_{aero}$, 구름 마찰력인 $R_x$ 그리고 경사에서 중력 $F_g$을 통해 구할 수 있습니다.\n",
    "공기역학적 항력은 2차 모델이고 마찰은 선형 모델입니다.\n",
    "\n",
    "\\begin{align}\n",
    "    F_{load} &= F_{aero} + R_x + F_g \\\\\n",
    "    F_{aero} &= \\frac{1}{2} C_a \\rho A \\dot{x}^2 = c_a \\dot{x}^2\\\\\n",
    "    R_x &= c_{r,1} \\dot{x}\\\\\n",
    "    F_g &= mg\\sin{\\alpha}\n",
    "\\end{align}\n",
    "\n",
    "모델은 전진에서만 사용되므로 마찰의 절대값은 무시됩니다($\\dot{x} \\ge 0$).\n",
    "타이어의 힘은 엔진 속도와 휠 슬립 방정식을 사용하여 계산됩니다.\n",
    "\n",
    "\\begin{align}\n",
    "    \\omega_w &= (GR)\\omega_e \\\\\n",
    "    s &= \\frac{\\omega_w r_e - \\dot{x}}{\\dot{x}}\\\\\n",
    "    F_x &= \\left\\{\\begin{array}{lr}\n",
    "        cs, &  |s| < 1\\\\\n",
    "        F_{max}, & \\text{otherwise}\n",
    "        \\end{array}\\right\\} \n",
    "\\end{align}\n",
    "\n",
    "한 스탭이 끝나고 나서는 가속도 a와 엔진 각가속도인 $\\dot{\\omega_e}$를 다음과 같이 업데이트 해주어야합니다.\n",
    "\n",
    "$a = \\large\\frac{F_x - F_{load}}{m}$\n",
    "$\\dot{\\omega_e} = \\large\\frac{T_e - GR * r_e * F_{load}}{J_e}$\n",
    "\n",
    "위의 식에서 $\\omega_w$는 휠 각속도이고 $s$는 슬립 비율입니다.\n",
    "아래 Python 객체를 사용하여 모델을 설정합니다.\n",
    "차량은 초기 속도 5 m/s와 100 rad/s의 엔진 속도에서 시작되었습니다.\n",
    "그리고 모든 매개 변수가 정의되고 자전거 모델과 마찬가지로 수치 적분을 위해 10ms의 샘플링 시간이 사용됩니다."
   ]
  },
  {
   "cell_type": "code",
   "execution_count": 1,
   "metadata": {
    "ExecuteTime": {
     "end_time": "2022-04-03T15:50:07.119361Z",
     "start_time": "2022-04-03T15:50:07.107130Z"
    },
    "executionInfo": {
     "elapsed": 2,
     "status": "ok",
     "timestamp": 1648102772998,
     "user": {
      "displayName": "‍하정민(대학원생-컴퓨터공학전공)",
      "photoUrl": "https://lh3.googleusercontent.com/a/default-user=s64",
      "userId": "07891677580396829057"
     },
     "user_tz": -540
    },
    "id": "ZDswZAJLR8JT"
   },
   "outputs": [],
   "source": [
    "import sys\n",
    "import numpy as np\n",
    "import matplotlib.pyplot as plt\n",
    "import matplotlib.image as mpimg\n",
    "\n",
    "class Vehicle():\n",
    "    def __init__(self):\n",
    " \n",
    "        # ==================================\n",
    "        #  Parameters\n",
    "        # ==================================\n",
    "    \n",
    "        #Throttle to engine torque\n",
    "        self.a_0 = 400\n",
    "        self.a_1 = 0.1\n",
    "        self.a_2 = -0.0002\n",
    "        \n",
    "        # Gear ratio, effective radius, mass + inertia\n",
    "        self.GR = 0.35\n",
    "        self.r_e = 0.3\n",
    "        self.J_e = 10\n",
    "        self.m = 2000\n",
    "        self.g = 9.81\n",
    "        \n",
    "        # Aerodynamic and friction coefficients\n",
    "        self.c_a = 1.36\n",
    "        self.c_r1 = 0.01\n",
    "        \n",
    "        # Tire force \n",
    "        self.c = 10000\n",
    "        self.F_max = 10000\n",
    "        \n",
    "        # State variables\n",
    "        self.x = 0\n",
    "        self.v = 5\n",
    "        self.a = 0\n",
    "        self.w_e = 100\n",
    "        self.w_e_dot = 0\n",
    "        \n",
    "        self.sample_time = 0.01\n",
    "        \n",
    "    def reset(self):\n",
    "        # reset state variables\n",
    "        self.x = 0\n",
    "        self.v = 5\n",
    "        self.a = 0\n",
    "        self.w_e = 100\n",
    "        self.w_e_dot = 0"
   ]
  },
  {
   "cell_type": "markdown",
   "metadata": {
    "id": "nfxq9ymNR8JV"
   },
   "source": [
    "아래 셀은 엔진의 동적 방정식을 구현합니다.\n",
    "$\\textit{step}$함수는 스로틀 $x_\\theta$와 경사각 $\\alpha$를 입력으로 받아 상태변수를 업데이트 하기 위해 하나의 step마다 수치 적분을 수행합니다."
   ]
  },
  {
   "cell_type": "markdown",
   "metadata": {
    "id": "4ywXuua-pb0O"
   },
   "source": [
    "## 코드 작성 - 자동차 모델링"
   ]
  },
  {
   "cell_type": "code",
   "execution_count": 4,
   "metadata": {
    "ExecuteTime": {
     "end_time": "2022-04-03T15:50:46.596256Z",
     "start_time": "2022-04-03T15:50:46.586059Z"
    },
    "executionInfo": {
     "elapsed": 5,
     "status": "ok",
     "timestamp": 1648102776212,
     "user": {
      "displayName": "‍하정민(대학원생-컴퓨터공학전공)",
      "photoUrl": "https://lh3.googleusercontent.com/a/default-user=s64",
      "userId": "07891677580396829057"
     },
     "user_tz": -540
    },
    "id": "MfgonpgjR8JV"
   },
   "outputs": [],
   "source": [
    "class Vehicle(Vehicle):\n",
    "    def step(self, throttle, alpha):\n",
    "        # ==================================\n",
    "        # 여기에 코드를 작성하시오.\n",
    "        # ==================================\n",
    "        pass"
   ]
  },
  {
   "cell_type": "markdown",
   "metadata": {
    "id": "RIHuHdvkR8JW"
   },
   "source": [
    "이제 모델을 만들어 아래 셀을 사용하면 차량에 일정한 스로틀 입력 줄 수 있게 됩니다.\n",
    "공기역학적 항력과 타이어 힘의 제한으로 인해 속도가 스로틀 입력을 기반으로 고정 값으로 수렴하는 것을 관찰할 수 있습니다."
   ]
  },
  {
   "cell_type": "code",
   "execution_count": 5,
   "metadata": {
    "ExecuteTime": {
     "end_time": "2022-04-03T15:50:48.882760Z",
     "start_time": "2022-04-03T15:50:48.222179Z"
    },
    "id": "w4VBv0UvR8JW"
   },
   "outputs": [
    {
     "data": {
      "image/png": "[encoded data removed]",
      "text/plain": [
       "<Figure size 432x288 with 1 Axes>"
      ]
     },
     "metadata": {
      "needs_background": "light"
     },
     "output_type": "display_data"
    }
   ],
   "source": [
    "sample_time = 0.01\n",
    "time_end = 100\n",
    "model = Vehicle()\n",
    "\n",
    "t_data = np.arange(0,time_end,sample_time)\n",
    "v_data = np.zeros_like(t_data)\n",
    "\n",
    "# throttle percentage between 0 and 1\n",
    "throttle = 0.2\n",
    "\n",
    "# incline angle (in radians)\n",
    "alpha = 0\n",
    "\n",
    "for i in range(t_data.shape[0]):\n",
    "    v_data[i] = model.v\n",
    "    model.step(throttle, alpha)\n",
    "    \n",
    "plt.plot(t_data, v_data)\n",
    "plt.show()"
   ]
  },
  {
   "cell_type": "markdown",
   "metadata": {
    "id": "dZB5OemQR8JX"
   },
   "source": [
    "이제 아래 그림과 같은 경사로를 넘어 차량을 운전해보겠습니다.\n",
    "\n",
    "![ramp](ramp.png)\n",
    "\n",
    "슬로프를 오르기 위해 아래 그림과 같은 스로틀 입력이 20초 동안 제공됩니다.\n",
    "\n",
    "![throttle](throttle.png)\n",
    "\n",
    "차량의 스로틀 입력은 20%부터 시작해서 점차적으로 50%로 증가합니다.\n",
    "이것은 차량이 가파른 경사를 올라갈 때 10초 동안 유지됩니다.\n",
    "그 후 차량은 스로틀을 0으로 줄입니다.\n",
    "\n",
    "아래 셀에서 램프 각도 $\\alpha (x)$와 스로틀 $x_\\theta (t)$을 구현하고 차량역학을 이용해서 단계별로 진행합니다.\n",
    "차량 위치 $x(t)$는 $\\textit{x_data}$에 저장됩니다.\n",
    "저장된 차량의 위치는 솔루션을 평가하는데 사용됩니다."
   ]
  },
  {
   "cell_type": "code",
   "execution_count": 6,
   "metadata": {
    "ExecuteTime": {
     "end_time": "2022-04-03T15:50:54.108693Z",
     "start_time": "2022-04-03T15:50:53.610698Z"
    },
    "id": "ZDzeQn8vR8JX"
   },
   "outputs": [
    {
     "data": {
      "image/png": "[encoded data removed]",
      "text/plain": [
       "<Figure size 432x288 with 1 Axes>"
      ]
     },
     "metadata": {
      "needs_background": "light"
     },
     "output_type": "display_data"
    }
   ],
   "source": [
    "time_end = 20\n",
    "t_data = np.arange(0,time_end,sample_time)\n",
    "x_data = np.zeros_like(t_data)\n",
    "v_data = np.zeros_like(t_data)\n",
    "throttle_data = np.zeros_like(t_data)\n",
    "alpha_data = np.zeros_like(t_data)\n",
    "\n",
    "# reset the states\n",
    "model.reset()\n",
    "\n",
    "# ==================================\n",
    "#  Learner solution begins here\n",
    "# ==================================\n",
    "\n",
    "n = t_data.shape[0]\n",
    "throttle_data[:n//4] = [0.2 + 0.3 * i / (n//4) for i in range(n//4)]\n",
    "throttle_data[n//4:3*n//4] = 0.5\n",
    "throttle_data[3*n//4:] = [0.5 - 0.001 * i for i in range(n//4)]\n",
    "for i in range(n):\n",
    "    x_data[i] = model.x\n",
    "    v_data[i] = model.v\n",
    "    if model.x < 60:\n",
    "        alpha_data[i] = np.arctan2(3, 60)\n",
    "    elif model.x < 150:\n",
    "        alpha_data[i] = np.arctan2(9, 90)\n",
    "    model.step(throttle_data[i], alpha_data[i])\n",
    "\n",
    "\n",
    "# ==================================\n",
    "#  Learner solution ends here\n",
    "# ==================================\n",
    "\n",
    "# Plot x vs t for visualization\n",
    "plt.plot(t_data, x_data)\n",
    "plt.show()"
   ]
  }
 ],
 "metadata": {
  "colab": {
   "collapsed_sections": [],
   "name": "과제2.ipynb",
   "provenance": []
  },
  "kernelspec": {
   "display_name": "Python 3 (ipykernel)",
   "language": "python",
   "name": "python3"
  },
  "language_info": {
   "codemirror_mode": {
    "name": "ipython",
    "version": 3
   },
   "file_extension": ".py",
   "mimetype": "text/x-python",
   "name": "python",
   "nbconvert_exporter": "python",
   "pygments_lexer": "ipython3",
   "version": "3.8.10"
  },
  "toc": {
   "base_numbering": 1,
   "nav_menu": {},
   "number_sections": false,
   "sideBar": true,
   "skip_h1_title": false,
   "title_cell": "Table of Contents",
   "title_sidebar": "Contents",
   "toc_cell": false,
   "toc_position": {},
   "toc_section_display": true,
   "toc_window_display": false
  }
 },
 "nbformat": 4,
 "nbformat_minor": 1
}
