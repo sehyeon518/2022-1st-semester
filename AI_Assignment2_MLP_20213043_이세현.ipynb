{
  "nbformat": 4,
  "nbformat_minor": 0,
  "metadata": {
    "colab": {
      "provenance": [],
      "gpuType": "T4",
      "authorship_tag": "ABX9TyPRkOZtcZu+z69GJXbNUGsW"
    },
    "kernelspec": {
      "name": "python3",
      "display_name": "Python 3"
    },
    "language_info": {
      "name": "python"
    },
    "accelerator": "GPU"
  },
  "cells": [
    {
      "cell_type": "markdown",
      "source": [
        "Assignment 2\n",
        "\n",
        "1. CIFAR-10 MLP"
      ],
      "metadata": {
        "id": "RBGPBBQagGvI"
      }
    },
    {
      "cell_type": "code",
      "execution_count": 39,
      "metadata": {
        "id": "itKh5fK5fgCN"
      },
      "outputs": [],
      "source": [
        "# PyTorch 라이브러리 import  *** 해당 cell을 수정하지 말 것 ***\n",
        "import torch\n",
        "import torch.nn as nn\n",
        "from torchvision import transforms, datasets"
      ]
    },
    {
      "cell_type": "code",
      "source": [
        "transform = transforms.Compose([\n",
        "    transforms.RandomHorizontalFlip(),  # 랜덤으로 수평 뒤집기\n",
        "    transforms.RandomCrop(32, padding=4),  # 랜덤 크롭 (패딩 추가)\n",
        "    transforms.ToTensor(),  # 텐서로 변환\n",
        "])"
      ],
      "metadata": {
        "id": "raxTOPvJUkV3"
      },
      "execution_count": 40,
      "outputs": []
    },
    {
      "cell_type": "code",
      "source": [
        "# TODO: CIFAR-10 training set 불러오기\n",
        "train_dataset = datasets.CIFAR10(root='.', train=True, download=True, transform=transform)\n",
        "batchsize = 64\n",
        "\n",
        "valid_dataset = torch.utils.data.Subset(train_dataset, range(49000, 50000))\n",
        "train_dataset = torch.utils.data.Subset(train_dataset, range(49000))\n",
        "train_loader = torch.utils.data.DataLoader(dataset=train_dataset,\n",
        "                                           batch_size=batchsize, shuffle=True)\n",
        "valid_loader = torch.utils.data.DataLoader(dataset=valid_dataset, batch_size=batchsize, shuffle=False)"
      ],
      "metadata": {
        "colab": {
          "base_uri": "https://localhost:8080/"
        },
        "id": "IOHY0Kyjg0-T",
        "outputId": "ca4bbd8a-bd1d-4c3b-ed93-6632f2d98d1a"
      },
      "execution_count": 41,
      "outputs": [
        {
          "output_type": "stream",
          "name": "stdout",
          "text": [
            "Files already downloaded and verified\n"
          ]
        }
      ]
    },
    {
      "cell_type": "code",
      "source": [
        "class MLP(nn.Module):\n",
        "  def __init__(self):\n",
        "    super(MLP, self).__init__()\n",
        "    torch.manual_seed(2024) # 결과 재현을 위한 seed number 고정 *** 해당 line을 수정하지 말 것 ***\n",
        "    # TODO: MLP 구성 layer들 선언 (Hint : Model input이 RGB 3채널 32x32 픽셀 이미지이므로 MLP 입력층 노드 개수는 32*32*3 = 3,072개임)\n",
        "    self.mlp = nn.Linear(32*32*3, 4096)\n",
        "    self.affine1 = nn.Linear(4096, 2048)\n",
        "    self.batchnorm1 = nn.BatchNorm1d(2048)\n",
        "    self.dropout1 = nn.Dropout(0.3)\n",
        "\n",
        "    self.affine2 = nn.Linear(2048, 1024)\n",
        "    self.batchnorm2 = nn.BatchNorm1d(1024)\n",
        "    self.dropout2 = nn.Dropout(0.3)\n",
        "\n",
        "    self.affine3 = nn.Linear(1024, 1024)\n",
        "    self.batchnorm3 = nn.BatchNorm1d(1024)\n",
        "    self.dropout3 = nn.Dropout(0.3)\n",
        "\n",
        "    self.affine4 = nn.Linear(1024, 1024)\n",
        "    self.batchnorm4 = nn.BatchNorm1d(1024)\n",
        "    self.dropout4 = nn.Dropout(0.3)\n",
        "\n",
        "    self.affine5 = nn.Linear(1024, 512)\n",
        "    self.batchnorm5 = nn.BatchNorm1d(512)\n",
        "    self.dropout5 = nn.Dropout(0.3)\n",
        "\n",
        "    self.affine6 = nn.Linear(512, 256)\n",
        "    self.batchnorm6 = nn.BatchNorm1d(256)\n",
        "\n",
        "    self.affine7 = nn.Linear(256, 10)\n",
        "\n",
        "    self.activation = nn.ReLU()\n",
        "\n",
        "  def forward(self, x):\n",
        "    x = x.view(-1, 32*32*3) # MLP가 이미지를 처리할 수 있도록 3차원 -> 1차원 벡터로 Flatten\n",
        "    # TODO: forward pass 정의\n",
        "    x = self.mlp(x)\n",
        "    x = self.affine1(x)\n",
        "    x = self.batchnorm1(x)\n",
        "    x = self.activation(x)\n",
        "    x = self.dropout1(x)\n",
        "\n",
        "    x = self.affine2(x)\n",
        "    x = self.batchnorm2(x)\n",
        "    x = self.activation(x)\n",
        "    x = self.dropout2(x)\n",
        "\n",
        "    x = self.affine3(x)\n",
        "    x = self.batchnorm3(x)\n",
        "    x = self.activation(x)\n",
        "    x = self.dropout3(x)\n",
        "\n",
        "    x = self.affine4(x)\n",
        "    x = self.batchnorm4(x)\n",
        "    x = self.activation(x)\n",
        "    x = self.dropout4(x)\n",
        "\n",
        "    x = self.affine5(x)\n",
        "    x = self.batchnorm5(x)\n",
        "    x = self.activation(x)\n",
        "    x = self.dropout5(x)\n",
        "\n",
        "    x = self.affine6(x)\n",
        "    x = self.batchnorm6(x)\n",
        "    x = self.activation(x)\n",
        "\n",
        "    x = self.affine7(x)\n",
        "    return x\n",
        "\n",
        "model = MLP().cuda()"
      ],
      "metadata": {
        "id": "6rBM9D64hKEb"
      },
      "execution_count": 42,
      "outputs": []
    },
    {
      "cell_type": "code",
      "source": [
        "# TODO: model 명의로 생성된 MLP 모델에 대해 학습 수행하기\n",
        "learning_rate = 0.001\n",
        "optimizer = torch.optim.Adam(model.parameters(), lr=learning_rate)\n",
        "criterion = nn.CrossEntropyLoss()\n",
        "\n",
        "num_epochs = 100\n",
        "iter = 0\n",
        "best_validation_acc = 0\n",
        "\n",
        "for epoch in range(num_epochs):\n",
        "    model.train()\n",
        "    total_loss = 0\n",
        "    for image, label in train_loader:\n",
        "        image = image.cuda()\n",
        "        label = label.cuda()\n",
        "        output = model(image)\n",
        "        loss = criterion(output, label)\n",
        "        optimizer.zero_grad()\n",
        "        loss.backward()\n",
        "        optimizer.step()\n",
        "        iter += 1\n",
        "\n",
        "        total_loss += loss.item()\n",
        "    total_loss /= len(train_loader)\n",
        "    print(f'[Epoch {epoch}]: Train Loss: {total_loss:.4f}', end=\" \")\n",
        "\n",
        "    model.eval()\n",
        "    num_correct = 0\n",
        "    with torch.no_grad():\n",
        "        for image, label in valid_loader:\n",
        "            image = image.cuda()\n",
        "            label = label.cuda()\n",
        "            output = model(image)\n",
        "            pred = output.argmax(dim=1)\n",
        "            num_correct += (pred == label).sum()\n",
        "\n",
        "    validation_accuracy = num_correct / len(valid_dataset) * 100\n",
        "    print(f\"Valid Accuracy: {validation_accuracy:.4f}\")\n",
        "    if validation_accuracy > best_validation_acc:\n",
        "        best_validation_acc = validation_accuracy\n",
        "    elif validation_accuracy < best_validation_acc - 5:\n",
        "        print(f'Early stopped at epoch {epoch + 1}')\n",
        "        break\n",
        "\n",
        "print(f'Total iterations: {iter}')"
      ],
      "metadata": {
        "colab": {
          "base_uri": "https://localhost:8080/"
        },
        "id": "U2nXE5oBhLD_",
        "outputId": "c6221403-dfbc-4b45-b52c-19c82267003b"
      },
      "execution_count": 43,
      "outputs": [
        {
          "output_type": "stream",
          "name": "stdout",
          "text": [
            "[Epoch 0]: Train Loss: 1.9525 Valid Accuracy: 34.4000\n",
            "[Epoch 1]: Train Loss: 1.8061 Valid Accuracy: 36.9000\n",
            "[Epoch 2]: Train Loss: 1.7474 Valid Accuracy: 38.2000\n",
            "[Epoch 3]: Train Loss: 1.7013 Valid Accuracy: 38.7000\n",
            "[Epoch 4]: Train Loss: 1.6667 Valid Accuracy: 42.4000\n",
            "[Epoch 5]: Train Loss: 1.6382 Valid Accuracy: 44.4000\n",
            "[Epoch 6]: Train Loss: 1.6116 Valid Accuracy: 43.4000\n",
            "[Epoch 7]: Train Loss: 1.5840 Valid Accuracy: 46.4000\n",
            "[Epoch 8]: Train Loss: 1.5631 Valid Accuracy: 46.2000\n",
            "[Epoch 9]: Train Loss: 1.5438 Valid Accuracy: 44.2000\n",
            "[Epoch 10]: Train Loss: 1.5292 Valid Accuracy: 49.2000\n",
            "[Epoch 11]: Train Loss: 1.5074 Valid Accuracy: 46.8000\n",
            "[Epoch 12]: Train Loss: 1.4963 Valid Accuracy: 49.2000\n",
            "[Epoch 13]: Train Loss: 1.4854 Valid Accuracy: 51.6000\n",
            "[Epoch 14]: Train Loss: 1.4773 Valid Accuracy: 50.1000\n",
            "[Epoch 15]: Train Loss: 1.4618 Valid Accuracy: 48.8000\n",
            "[Epoch 16]: Train Loss: 1.4527 Valid Accuracy: 51.0000\n",
            "[Epoch 17]: Train Loss: 1.4399 Valid Accuracy: 53.8000\n",
            "[Epoch 18]: Train Loss: 1.4302 Valid Accuracy: 51.2000\n",
            "[Epoch 19]: Train Loss: 1.4222 Valid Accuracy: 50.0000\n",
            "[Epoch 20]: Train Loss: 1.4167 Valid Accuracy: 51.0000\n",
            "[Epoch 21]: Train Loss: 1.4033 Valid Accuracy: 51.6000\n",
            "[Epoch 22]: Train Loss: 1.3963 Valid Accuracy: 54.3000\n",
            "[Epoch 23]: Train Loss: 1.3887 Valid Accuracy: 55.8000\n",
            "[Epoch 24]: Train Loss: 1.3855 Valid Accuracy: 53.8000\n",
            "[Epoch 25]: Train Loss: 1.3747 Valid Accuracy: 54.2000\n",
            "[Epoch 26]: Train Loss: 1.3634 Valid Accuracy: 55.3000\n",
            "[Epoch 27]: Train Loss: 1.3582 Valid Accuracy: 53.4000\n",
            "[Epoch 28]: Train Loss: 1.3562 Valid Accuracy: 55.1000\n",
            "[Epoch 29]: Train Loss: 1.3487 Valid Accuracy: 56.0000\n",
            "[Epoch 30]: Train Loss: 1.3424 Valid Accuracy: 54.7000\n",
            "[Epoch 31]: Train Loss: 1.3315 Valid Accuracy: 54.3000\n",
            "[Epoch 32]: Train Loss: 1.3260 Valid Accuracy: 54.5000\n",
            "[Epoch 33]: Train Loss: 1.3212 Valid Accuracy: 55.2000\n",
            "[Epoch 34]: Train Loss: 1.3163 Valid Accuracy: 56.4000\n",
            "[Epoch 35]: Train Loss: 1.3047 Valid Accuracy: 55.7000\n",
            "[Epoch 36]: Train Loss: 1.3011 Valid Accuracy: 55.6000\n",
            "[Epoch 37]: Train Loss: 1.2973 Valid Accuracy: 56.1000\n",
            "[Epoch 38]: Train Loss: 1.2920 Valid Accuracy: 56.1000\n",
            "[Epoch 39]: Train Loss: 1.2837 Valid Accuracy: 57.7000\n",
            "[Epoch 40]: Train Loss: 1.2771 Valid Accuracy: 55.8000\n",
            "[Epoch 41]: Train Loss: 1.2736 Valid Accuracy: 56.2000\n",
            "[Epoch 42]: Train Loss: 1.2646 Valid Accuracy: 55.9000\n",
            "[Epoch 43]: Train Loss: 1.2639 Valid Accuracy: 58.3000\n",
            "[Epoch 44]: Train Loss: 1.2537 Valid Accuracy: 55.0000\n",
            "[Epoch 45]: Train Loss: 1.2538 Valid Accuracy: 57.5000\n",
            "[Epoch 46]: Train Loss: 1.2466 Valid Accuracy: 57.8000\n",
            "[Epoch 47]: Train Loss: 1.2430 Valid Accuracy: 58.0000\n",
            "[Epoch 48]: Train Loss: 1.2374 Valid Accuracy: 58.5000\n",
            "[Epoch 49]: Train Loss: 1.2359 Valid Accuracy: 58.7000\n",
            "[Epoch 50]: Train Loss: 1.2245 Valid Accuracy: 60.1000\n",
            "[Epoch 51]: Train Loss: 1.2241 Valid Accuracy: 58.2000\n",
            "[Epoch 52]: Train Loss: 1.2197 Valid Accuracy: 57.0000\n",
            "[Epoch 53]: Train Loss: 1.2174 Valid Accuracy: 59.3000\n",
            "[Epoch 54]: Train Loss: 1.2100 Valid Accuracy: 57.3000\n",
            "[Epoch 55]: Train Loss: 1.2073 Valid Accuracy: 58.2000\n",
            "[Epoch 56]: Train Loss: 1.1997 Valid Accuracy: 61.7000\n",
            "[Epoch 57]: Train Loss: 1.2012 Valid Accuracy: 58.5000\n",
            "[Epoch 58]: Train Loss: 1.1951 Valid Accuracy: 59.6000\n",
            "[Epoch 59]: Train Loss: 1.1895 Valid Accuracy: 60.5000\n",
            "[Epoch 60]: Train Loss: 1.1852 Valid Accuracy: 59.5000\n",
            "[Epoch 61]: Train Loss: 1.1846 Valid Accuracy: 56.6000\n",
            "Early stopped at epoch 62\n",
            "Total iterations: 47492\n"
          ]
        }
      ]
    },
    {
      "cell_type": "code",
      "source": [
        "# 학습된 모델 평가  *** 해당 cell을 수정하지 말 것 ***\n",
        "\n",
        "\n",
        "test_dataset = datasets.CIFAR10(root='.', train=False, download=True,\n",
        "                                 transform=transforms.ToTensor())\n",
        "batchsize = 64\n",
        "test_loader = torch.utils.data.DataLoader(dataset=test_dataset,\n",
        "                                           batch_size=batchsize, shuffle=True)\n",
        "\n",
        "num_correct = 0\n",
        "\n",
        "model.eval()\n",
        "\n",
        "with torch.no_grad():\n",
        "  for image, label in test_loader:\n",
        "    image = image.cuda()\n",
        "    label = label.cuda()\n",
        "    output = model(image)\n",
        "    pred = output.argmax(dim=1)\n",
        "    num_correct += (pred == label).sum()\n",
        "\n",
        "print(f'Accuracy : {num_correct / len(test_dataset) * 100:.2f} %')"
      ],
      "metadata": {
        "colab": {
          "base_uri": "https://localhost:8080/"
        },
        "id": "73UZfnEYhNwy",
        "outputId": "192639d3-0665-480d-d989-a18262050d5f"
      },
      "execution_count": 45,
      "outputs": [
        {
          "output_type": "stream",
          "name": "stdout",
          "text": [
            "Files already downloaded and verified\n",
            "Accuracy : 60.29 %\n"
          ]
        }
      ]
    },
    {
      "cell_type": "code",
      "source": [
        "num_correct = 0\n",
        "\n",
        "model.eval()\n",
        "\n",
        "with torch.no_grad():\n",
        "  for image, label in train_loader:\n",
        "    image = image.cuda()\n",
        "    label = label.cuda()\n",
        "    output = model(image)\n",
        "    pred = output.argmax(dim=1)\n",
        "    num_correct += (pred == label).sum()\n",
        "\n",
        "print(f'Accuracy : {num_correct / len(train_dataset) * 100:.2f} %')"
      ],
      "metadata": {
        "colab": {
          "base_uri": "https://localhost:8080/"
        },
        "id": "y_QgdAwRsKg2",
        "outputId": "3b29e3b3-21aa-4865-bf3e-3b48de3074ae"
      },
      "execution_count": 46,
      "outputs": [
        {
          "output_type": "stream",
          "name": "stdout",
          "text": [
            "Accuracy : 63.52 %\n"
          ]
        }
      ]
    },
    {
      "cell_type": "code",
      "source": [],
      "metadata": {
        "id": "E0UHEfS7U6tR"
      },
      "execution_count": null,
      "outputs": []
    }
  ]
}