{
 "cells": [
  {
   "cell_type": "markdown",
   "id": "daa7a134",
   "metadata": {},
   "source": [
    "# 1번 문제"
   ]
  },
  {
   "cell_type": "code",
   "execution_count": 1,
   "id": "29019f1f",
   "metadata": {},
   "outputs": [],
   "source": [
    "from collections import deque\n",
    "def solution(maps):\n",
    "\n",
    "    n = len(maps[0])  # 가로 길이\n",
    "    m = len(maps)     # 세로 길이\n",
    "\n",
    "    answer = 1\n",
    "\n",
    "    queue = [0]\n",
    "    visited = [0]\n",
    "\n",
    "    while len(queue) > 0:\n",
    "        tmp = queue[:]\n",
    "        for k in range(len(tmp)):\n",
    "            cdnt = tmp[k]\n",
    "            pointerX = cdnt // 10\n",
    "            pointerY = cdnt % 10\n",
    "            if pointerX == m - 1 and pointerY == n - 1:\n",
    "                return answer\n",
    "\n",
    "            # 상하좌우 살펴보기\n",
    "            if pointerX > 0:\n",
    "                if maps[pointerX - 1][pointerY] == 1 and (cdnt-10 not in visited):\n",
    "                    queue.append(cdnt-10)\n",
    "                    visited.append(cdnt-10)\n",
    "            if pointerX < m-1:\n",
    "                if maps[pointerX + 1][pointerY] == 1 and (cdnt+10 not in visited):\n",
    "                    queue.append(cdnt+10)\n",
    "                    visited.append(cdnt+10)\n",
    "            if pointerY > 0:\n",
    "                if maps[pointerX][pointerY - 1] == 1 and (cdnt-1 not in visited):\n",
    "                    queue.append(cdnt-1)\n",
    "                    visited.append(cdnt-1)\n",
    "            if pointerY < n-1:\n",
    "                if maps[pointerX][pointerY + 1] == 1 and (cdnt+1 not in visited):\n",
    "                    queue.append(cdnt+1)\n",
    "                    visited.append(cdnt+1)\n",
    "            queue.pop(0)\n",
    "        answer += 1\n",
    "\n",
    "    return -1  # 지나가야하는 칸의 개수의 최솟값 or -1\n"
   ]
  },
  {
   "cell_type": "markdown",
   "id": "5f7c2e1e",
   "metadata": {},
   "source": [
    "### 테스트 케이스"
   ]
  },
  {
   "cell_type": "code",
   "execution_count": 2,
   "id": "735cc530",
   "metadata": {
    "ExecuteTime": {
     "end_time": "2022-06-03T07:39:30.100311Z",
     "start_time": "2022-06-03T07:39:30.093038Z"
    }
   },
   "outputs": [
    {
     "name": "stdout",
     "output_type": "stream",
     "text": [
      "correct test case 1\n",
      "correct test case 2\n"
     ]
    }
   ],
   "source": [
    "# 1번 테스트\n",
    "maps = [[1,0,1,1,1],[1,0,1,0,1],[1,0,1,1,1],[1,1,1,0,1],[0,0,0,0,1]]\n",
    "answer = solution(maps)\n",
    "print(\"correct test case 1\") if answer == 11 else print(\"incorrect test case 1\")\n",
    "    \n",
    "# 2번 테스트\n",
    "maps = [[1,0,1,1,1],[1,0,1,0,1],[1,0,1,1,1],[1,1,1,0,0],[0,0,0,0,1]]\n",
    "answer = solution(maps)\n",
    "print(\"correct test case 2\") if answer == -1 else print(\"incorrect test case 2\") "
   ]
  },
  {
   "cell_type": "markdown",
   "id": "198e8499",
   "metadata": {},
   "source": [
    "# 2번 문제"
   ]
  },
  {
   "cell_type": "code",
   "execution_count": 3,
   "id": "94b133cd",
   "metadata": {},
   "outputs": [],
   "source": [
    "import heapq\n",
    "def solution(N, K, road):\n",
    "    def dijkstra(dlist, glist):\n",
    "        heap = []\n",
    "        heapq.heappush(heap, [0, 1])          # 0만큼 떨어진 1에 갈 수 있다 (a->b, dest)\n",
    "        while heap:\n",
    "            step1 = heapq.heappop(heap)\n",
    "            leng, dest = step1                # leng = a->b\n",
    "            step2 = glist[dest]\n",
    "            for l, d in step2:                # l = b->c\n",
    "                length = leng + l             # c까지 거리 = (a->b) + (b->c)\n",
    "                if length < dlist[d]:\n",
    "                    dlist[d] = length\n",
    "                    heapq.heappush(heap, [length, d])\n",
    "    \n",
    "    distance = [float('inf')]*(N+1)\n",
    "    distance[1] = 0\n",
    "    graph = [[] for _ in range(N+1)]\n",
    "    for r in road:\n",
    "        graph[r[0]].append([r[2], r[1]])\n",
    "        graph[r[1]].append([r[2], r[0]])\n",
    "    dijkstra(distance, graph)\n",
    "    return len([x for x in distance if x <= K])"
   ]
  },
  {
   "cell_type": "markdown",
   "id": "e0882702",
   "metadata": {},
   "source": [
    "### 테스트 케이스"
   ]
  },
  {
   "cell_type": "code",
   "execution_count": 4,
   "id": "1dfc0a92",
   "metadata": {},
   "outputs": [
    {
     "name": "stdout",
     "output_type": "stream",
     "text": [
      "correct test case 1\n",
      "correct test case 2\n"
     ]
    }
   ],
   "source": [
    "# 1번 테스트\n",
    "N = 5\n",
    "K = 3\n",
    "road = [[1,2,1],[2,3,3],[5,2,2],[1,4,2],[5,3,1],[5,4,2]]\n",
    "\n",
    "answer = solution(N, K, road)\n",
    "print(\"correct test case 1\") if answer == 4 else print(\"incorrect test case 1\")\n",
    "\n",
    "# 2번 테스트\n",
    "N = 6\n",
    "K = 4\n",
    "road = [[1,2,1],[1,3,2],[2,3,2],[3,4,3],[3,5,2],[3,5,3],[5,6,1]]\n",
    "\n",
    "answer = solution(N, K, road)\n",
    "print(\"correct test case 2\") if answer == 4 else print(\"incorrect test case 2\")"
   ]
  },
  {
   "cell_type": "markdown",
   "id": "1c318905",
   "metadata": {},
   "source": [
    "# 3번 문제"
   ]
  },
  {
   "cell_type": "code",
   "execution_count": 5,
   "id": "969128d1",
   "metadata": {
    "ExecuteTime": {
     "end_time": "2022-06-03T08:58:15.976067Z",
     "start_time": "2022-06-03T08:58:15.963289Z"
    }
   },
   "outputs": [],
   "source": [
    "def a_star_graph_search(\n",
    "            start,\n",
    "            goal_function,\n",
    "            successor_function,\n",
    "            heuristic):\n",
    "    visited = set()\n",
    "    came_from = dict()\n",
    "    distance = {start: 0}\n",
    "    frontier = PriorityQueue()\n",
    "    frontier.add(start)\n",
    "    while frontier:\n",
    "        node = frontier.pop()\n",
    "        if node in visited:\n",
    "            continue\n",
    "        if goal_function(node):\n",
    "            return reconstruct_path(came_from, start, node)\n",
    "        visited.add(node)\n",
    "        for successor in successor_function(node):\n",
    "            frontier.add(\n",
    "                successor,\n",
    "                priority = distance[node] + 1 + heuristic(successor)\n",
    "            )\n",
    "            if (successor not in distance\n",
    "                or distance[node] + 1 < distance[successor]):\n",
    "                distance[successor] = distance[node] + 1\n",
    "                came_from[successor] = node\n",
    "    return None\n",
    "\n",
    "def reconstruct_path(came_from, start, end):\n",
    "    reverse_path = [end]\n",
    "    while end != start:\n",
    "        end = came_from[end]\n",
    "        reverse_path.append(end)\n",
    "    return list(reversed(reverse_path))"
   ]
  },
  {
   "cell_type": "code",
   "execution_count": 6,
   "id": "6bfc7eb6",
   "metadata": {
    "ExecuteTime": {
     "end_time": "2022-06-03T08:59:27.914216Z",
     "start_time": "2022-06-03T08:59:27.910341Z"
    }
   },
   "outputs": [],
   "source": [
    "def get_goal_function(grid):\n",
    "    M = len(grid)\n",
    "    N = len(grid[0])\n",
    "    def is_bottom_right(cell):\n",
    "        return cell == (M-1, N-1)\n",
    "    return is_bottom_right"
   ]
  },
  {
   "cell_type": "code",
   "execution_count": 7,
   "id": "a47b7991",
   "metadata": {
    "ExecuteTime": {
     "end_time": "2022-06-03T08:58:16.737649Z",
     "start_time": "2022-06-03T08:58:16.728734Z"
    }
   },
   "outputs": [],
   "source": [
    "def get_successor_function(grid):\n",
    "    def get_clear_adjacent_cells(cell):\n",
    "        i, j = cell\n",
    "        return (\n",
    "            (i + a, j + b)\n",
    "            for a in (-1, 0, 1)\n",
    "            for b in (-1, 0, 1)\n",
    "            if a != 0 or b != 0\n",
    "            if 0 <= i + a < len(grid)\n",
    "            if 0 <= j + b < len(grid[0])\n",
    "            if grid[i + a][j + b] == 0\n",
    "        )\n",
    "    return get_clear_adjacent_cells"
   ]
  },
  {
   "cell_type": "code",
   "execution_count": 8,
   "id": "6855c078",
   "metadata": {
    "ExecuteTime": {
     "end_time": "2022-06-03T08:58:17.304701Z",
     "start_time": "2022-06-03T08:58:17.297338Z"
    }
   },
   "outputs": [],
   "source": [
    "def get_heuristic(grid):\n",
    "    M, N = len(grid), len(grid[0])\n",
    "    (a, b) = goal_cell = (M - 1, N - 1)\n",
    "    def get_clear_path_distance_from_goal(cell):\n",
    "        (i, j) = cell\n",
    "        return max(abs(a - i), abs(b - j))\n",
    "    return get_clear_path_distance_from_goal"
   ]
  },
  {
   "cell_type": "code",
   "execution_count": 9,
   "id": "57c2324b",
   "metadata": {
    "ExecuteTime": {
     "end_time": "2022-06-03T08:58:17.925429Z",
     "start_time": "2022-06-03T08:58:17.915929Z"
    }
   },
   "outputs": [],
   "source": [
    "from heapq import heappush, heappop\n",
    "\n",
    "class PriorityQueue:\n",
    "    \n",
    "    def __init__(self, iterable=[]):\n",
    "        self.heap = []\n",
    "        for value in iterable:\n",
    "            heappush(self.heap, (0, value))\n",
    "    \n",
    "    def add(self, value, priority=0):\n",
    "        heappush(self.heap, (priority, value))\n",
    "    \n",
    "    def pop(self):\n",
    "        priority, value = heappop(self.heap)\n",
    "        return value\n",
    "    \n",
    "    def __len__(self):\n",
    "        return len(self.heap)"
   ]
  },
  {
   "cell_type": "code",
   "execution_count": 10,
   "id": "3f48cd46",
   "metadata": {
    "ExecuteTime": {
     "end_time": "2022-06-03T08:58:18.785089Z",
     "start_time": "2022-06-03T08:58:18.770885Z"
    }
   },
   "outputs": [],
   "source": [
    "from collections import deque\n",
    "\n",
    "def breadth_first_search(grid):\n",
    "    N = len(grid)\n",
    "\n",
    "    def is_clear(cell):\n",
    "        return grid[cell[0]][cell[1]] == 0\n",
    "\n",
    "    def get_neighbours(cell):\n",
    "        (i, j) = cell\n",
    "        return (\n",
    "            (i + a, j + b)\n",
    "            for a in (-1, 0, 1)\n",
    "            for b in (-1, 0, 1)\n",
    "            if a != 0 or b != 0\n",
    "            if 0 <= i + a < N\n",
    "            if 0 <= j + b < N\n",
    "            if is_clear( (i + a, j + b) )\n",
    "        )\n",
    "\n",
    "    start = (0, 0)\n",
    "    goal = (N - 1, N - 1)\n",
    "\n",
    "    queue = deque()\n",
    "    if is_clear(start):\n",
    "        queue.append(start)\n",
    "    visited = set()\n",
    "    path_len = {start: 1}\n",
    "\n",
    "    while queue:\n",
    "        cell = queue.popleft()\n",
    "        if cell in visited:\n",
    "            continue\n",
    "        if cell == goal:\n",
    "            return path_len[cell]\n",
    "        visited.add(cell)\n",
    "        for neighbour in get_neighbours(cell):\n",
    "            if neighbour not in path_len:\n",
    "                path_len[neighbour] = path_len[cell] + 1\n",
    "            queue.append(neighbour)\n",
    "\n",
    "    return -1"
   ]
  },
  {
   "cell_type": "code",
   "execution_count": 11,
   "id": "59c5ee85",
   "metadata": {},
   "outputs": [],
   "source": [
    "def Astar(grid):\n",
    "    if grid[0][0] == 1:\n",
    "        return -1\n",
    "    answer = a_star_graph_search(\n",
    "        start=(0, 0),\n",
    "        goal_function=get_goal_function(grid),\n",
    "        successor_function=get_successor_function(grid),\n",
    "        heuristic=get_heuristic(grid)\n",
    "    )\n",
    "    if len(answer):\n",
    "        return len(answer)\n",
    "    else:\n",
    "        return -1"
   ]
  },
  {
   "cell_type": "code",
   "execution_count": 12,
   "id": "bbad9cce",
   "metadata": {
    "ExecuteTime": {
     "end_time": "2022-06-03T09:01:28.571803Z",
     "start_time": "2022-06-03T09:01:28.561498Z"
    }
   },
   "outputs": [
    {
     "name": "stdout",
     "output_type": "stream",
     "text": [
      "correct test case 1\n",
      "correct test case 2\n"
     ]
    }
   ],
   "source": [
    "grid = [[0,0,0],[1,1,0],[1,1,0]]\n",
    "answer = Astar(grid)\n",
    "print(\"correct test case 1\") if answer == 4 else print(\"incorrect test case 1\")\n",
    "\n",
    "grid = [[1,0,0],[1,1,0],[1,1,0]]\n",
    "answer = Astar(grid)\n",
    "print(\"correct test case 2\") if answer == -1 else print(\"incorrect test case 2\")"
   ]
  }
 ],
 "metadata": {
  "kernelspec": {
   "display_name": "Python 3 (ipykernel)",
   "language": "python",
   "name": "python3"
  },
  "language_info": {
   "codemirror_mode": {
    "name": "ipython",
    "version": 3
   },
   "file_extension": ".py",
   "mimetype": "text/x-python",
   "name": "python",
   "nbconvert_exporter": "python",
   "pygments_lexer": "ipython3",
   "version": "3.8.10"
  },
  "toc": {
   "base_numbering": 1,
   "nav_menu": {},
   "number_sections": false,
   "sideBar": true,
   "skip_h1_title": false,
   "title_cell": "Table of Contents",
   "title_sidebar": "Contents",
   "toc_cell": false,
   "toc_position": {},
   "toc_section_display": true,
   "toc_window_display": false
  }
 },
 "nbformat": 4,
 "nbformat_minor": 5
}
